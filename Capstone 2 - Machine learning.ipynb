{
 "cells": [
  {
   "cell_type": "code",
   "execution_count": 47,
   "metadata": {},
   "outputs": [],
   "source": [
    "import json\n",
    "import requests\n",
    "import pandas as pd\n",
    "from pandas.io.json import json_normalize \n",
    "dictionary = pd.read_csv('data/MELBOURNE_HOUSE_PRICES_LESS.csv')\n",
    "main       = pd.read_csv(\"data/Melbourne_housing_FULL.csv\")\n",
    "dict_df = pd.DataFrame.from_dict(dictionary, orient='columns', dtype=None)\n",
    "main_df = pd.DataFrame.from_dict(main, orient='columns', dtype=None)"
   ]
  },
  {
   "cell_type": "code",
   "execution_count": 48,
   "metadata": {},
   "outputs": [
    {
     "name": "stdout",
     "output_type": "stream",
     "text": [
      "<class 'pandas.core.frame.DataFrame'>\n",
      "Int64Index: 34847 entries, 0 to 34856\n",
      "Data columns (total 10 columns):\n",
      "Suburb         34847 non-null object\n",
      "Rooms          34847 non-null int64\n",
      "Price          27239 non-null float64\n",
      "Postcode       34846 non-null float64\n",
      "Bedroom2       26635 non-null float64\n",
      "Bathroom       26626 non-null float64\n",
      "Car            26124 non-null float64\n",
      "Landsize       23043 non-null float64\n",
      "CouncilArea    34844 non-null object\n",
      "Distance       34846 non-null float64\n",
      "dtypes: float64(7), int64(1), object(2)\n",
      "memory usage: 2.9+ MB\n"
     ]
    },
    {
     "data": {
      "text/html": [
       "<div>\n",
       "<style scoped>\n",
       "    .dataframe tbody tr th:only-of-type {\n",
       "        vertical-align: middle;\n",
       "    }\n",
       "\n",
       "    .dataframe tbody tr th {\n",
       "        vertical-align: top;\n",
       "    }\n",
       "\n",
       "    .dataframe thead th {\n",
       "        text-align: right;\n",
       "    }\n",
       "</style>\n",
       "<table border=\"1\" class=\"dataframe\">\n",
       "  <thead>\n",
       "    <tr style=\"text-align: right;\">\n",
       "      <th></th>\n",
       "      <th>Suburb</th>\n",
       "      <th>Rooms</th>\n",
       "      <th>Price</th>\n",
       "      <th>Postcode</th>\n",
       "      <th>Bedroom2</th>\n",
       "      <th>Bathroom</th>\n",
       "      <th>Car</th>\n",
       "      <th>Landsize</th>\n",
       "      <th>CouncilArea</th>\n",
       "      <th>Distance</th>\n",
       "    </tr>\n",
       "  </thead>\n",
       "  <tbody>\n",
       "    <tr>\n",
       "      <th>0</th>\n",
       "      <td>Abbotsford</td>\n",
       "      <td>2</td>\n",
       "      <td>NaN</td>\n",
       "      <td>3067.0</td>\n",
       "      <td>2.0</td>\n",
       "      <td>1.0</td>\n",
       "      <td>1.0</td>\n",
       "      <td>126.0</td>\n",
       "      <td>Yarra City Council</td>\n",
       "      <td>2.5</td>\n",
       "    </tr>\n",
       "    <tr>\n",
       "      <th>1</th>\n",
       "      <td>Abbotsford</td>\n",
       "      <td>2</td>\n",
       "      <td>1480000.0</td>\n",
       "      <td>3067.0</td>\n",
       "      <td>2.0</td>\n",
       "      <td>1.0</td>\n",
       "      <td>1.0</td>\n",
       "      <td>202.0</td>\n",
       "      <td>Yarra City Council</td>\n",
       "      <td>2.5</td>\n",
       "    </tr>\n",
       "    <tr>\n",
       "      <th>2</th>\n",
       "      <td>Abbotsford</td>\n",
       "      <td>2</td>\n",
       "      <td>1035000.0</td>\n",
       "      <td>3067.0</td>\n",
       "      <td>2.0</td>\n",
       "      <td>1.0</td>\n",
       "      <td>0.0</td>\n",
       "      <td>156.0</td>\n",
       "      <td>Yarra City Council</td>\n",
       "      <td>2.5</td>\n",
       "    </tr>\n",
       "    <tr>\n",
       "      <th>3</th>\n",
       "      <td>Abbotsford</td>\n",
       "      <td>3</td>\n",
       "      <td>NaN</td>\n",
       "      <td>3067.0</td>\n",
       "      <td>3.0</td>\n",
       "      <td>2.0</td>\n",
       "      <td>1.0</td>\n",
       "      <td>0.0</td>\n",
       "      <td>Yarra City Council</td>\n",
       "      <td>2.5</td>\n",
       "    </tr>\n",
       "    <tr>\n",
       "      <th>4</th>\n",
       "      <td>Abbotsford</td>\n",
       "      <td>3</td>\n",
       "      <td>1465000.0</td>\n",
       "      <td>3067.0</td>\n",
       "      <td>3.0</td>\n",
       "      <td>2.0</td>\n",
       "      <td>0.0</td>\n",
       "      <td>134.0</td>\n",
       "      <td>Yarra City Council</td>\n",
       "      <td>2.5</td>\n",
       "    </tr>\n",
       "  </tbody>\n",
       "</table>\n",
       "</div>"
      ],
      "text/plain": [
       "       Suburb  Rooms      Price  Postcode  Bedroom2  Bathroom  Car  Landsize  \\\n",
       "0  Abbotsford      2        NaN    3067.0       2.0       1.0  1.0     126.0   \n",
       "1  Abbotsford      2  1480000.0    3067.0       2.0       1.0  1.0     202.0   \n",
       "2  Abbotsford      2  1035000.0    3067.0       2.0       1.0  0.0     156.0   \n",
       "3  Abbotsford      3        NaN    3067.0       3.0       2.0  1.0       0.0   \n",
       "4  Abbotsford      3  1465000.0    3067.0       3.0       2.0  0.0     134.0   \n",
       "\n",
       "          CouncilArea  Distance  \n",
       "0  Yarra City Council       2.5  \n",
       "1  Yarra City Council       2.5  \n",
       "2  Yarra City Council       2.5  \n",
       "3  Yarra City Council       2.5  \n",
       "4  Yarra City Council       2.5  "
      ]
     },
     "execution_count": 48,
     "metadata": {},
     "output_type": "execute_result"
    }
   ],
   "source": [
    "### Removing the outliers\n",
    "filter_df = main_df[main_df['Landsize'] < 3000]\n",
    "filter_df = main_df[main_df['Price'] < 4000000]\n",
    "filter_df = main_df[main_df['Rooms'] < 10]\n",
    "\n",
    "# Segregating the features that have an influence on the price.\n",
    "features = filter_df[['Suburb','Rooms','Price','Postcode','Bedroom2','Bathroom','Car','Landsize','CouncilArea','Distance']].copy()\n",
    "features.info()\n",
    "features.head()"
   ]
  },
  {
   "cell_type": "code",
   "execution_count": 49,
   "metadata": {},
   "outputs": [
    {
     "name": "stdout",
     "output_type": "stream",
     "text": [
      "<class 'pandas.core.frame.DataFrame'>\n",
      "Int64Index: 17698 entries, 1 to 34856\n",
      "Data columns (total 10 columns):\n",
      "Suburb         17698 non-null object\n",
      "Rooms          17698 non-null int64\n",
      "Price          17698 non-null float64\n",
      "Postcode       17698 non-null float64\n",
      "Bedroom2       17698 non-null float64\n",
      "Bathroom       17698 non-null float64\n",
      "Car            17698 non-null float64\n",
      "Landsize       17698 non-null float64\n",
      "CouncilArea    17698 non-null object\n",
      "Distance       17698 non-null float64\n",
      "dtypes: float64(7), int64(1), object(2)\n",
      "memory usage: 1.5+ MB\n"
     ]
    },
    {
     "data": {
      "text/html": [
       "<div>\n",
       "<style scoped>\n",
       "    .dataframe tbody tr th:only-of-type {\n",
       "        vertical-align: middle;\n",
       "    }\n",
       "\n",
       "    .dataframe tbody tr th {\n",
       "        vertical-align: top;\n",
       "    }\n",
       "\n",
       "    .dataframe thead th {\n",
       "        text-align: right;\n",
       "    }\n",
       "</style>\n",
       "<table border=\"1\" class=\"dataframe\">\n",
       "  <thead>\n",
       "    <tr style=\"text-align: right;\">\n",
       "      <th></th>\n",
       "      <th>Suburb</th>\n",
       "      <th>Rooms</th>\n",
       "      <th>Price</th>\n",
       "      <th>Postcode</th>\n",
       "      <th>Bedroom2</th>\n",
       "      <th>Bathroom</th>\n",
       "      <th>Car</th>\n",
       "      <th>Landsize</th>\n",
       "      <th>CouncilArea</th>\n",
       "      <th>Distance</th>\n",
       "    </tr>\n",
       "  </thead>\n",
       "  <tbody>\n",
       "    <tr>\n",
       "      <th>1</th>\n",
       "      <td>Abbotsford</td>\n",
       "      <td>2</td>\n",
       "      <td>1480000.0</td>\n",
       "      <td>3067.0</td>\n",
       "      <td>2.0</td>\n",
       "      <td>1.0</td>\n",
       "      <td>1.0</td>\n",
       "      <td>202.0</td>\n",
       "      <td>Yarra City Council</td>\n",
       "      <td>2.5</td>\n",
       "    </tr>\n",
       "    <tr>\n",
       "      <th>2</th>\n",
       "      <td>Abbotsford</td>\n",
       "      <td>2</td>\n",
       "      <td>1035000.0</td>\n",
       "      <td>3067.0</td>\n",
       "      <td>2.0</td>\n",
       "      <td>1.0</td>\n",
       "      <td>0.0</td>\n",
       "      <td>156.0</td>\n",
       "      <td>Yarra City Council</td>\n",
       "      <td>2.5</td>\n",
       "    </tr>\n",
       "    <tr>\n",
       "      <th>4</th>\n",
       "      <td>Abbotsford</td>\n",
       "      <td>3</td>\n",
       "      <td>1465000.0</td>\n",
       "      <td>3067.0</td>\n",
       "      <td>3.0</td>\n",
       "      <td>2.0</td>\n",
       "      <td>0.0</td>\n",
       "      <td>134.0</td>\n",
       "      <td>Yarra City Council</td>\n",
       "      <td>2.5</td>\n",
       "    </tr>\n",
       "    <tr>\n",
       "      <th>5</th>\n",
       "      <td>Abbotsford</td>\n",
       "      <td>3</td>\n",
       "      <td>850000.0</td>\n",
       "      <td>3067.0</td>\n",
       "      <td>3.0</td>\n",
       "      <td>2.0</td>\n",
       "      <td>1.0</td>\n",
       "      <td>94.0</td>\n",
       "      <td>Yarra City Council</td>\n",
       "      <td>2.5</td>\n",
       "    </tr>\n",
       "    <tr>\n",
       "      <th>6</th>\n",
       "      <td>Abbotsford</td>\n",
       "      <td>4</td>\n",
       "      <td>1600000.0</td>\n",
       "      <td>3067.0</td>\n",
       "      <td>3.0</td>\n",
       "      <td>1.0</td>\n",
       "      <td>2.0</td>\n",
       "      <td>120.0</td>\n",
       "      <td>Yarra City Council</td>\n",
       "      <td>2.5</td>\n",
       "    </tr>\n",
       "  </tbody>\n",
       "</table>\n",
       "</div>"
      ],
      "text/plain": [
       "       Suburb  Rooms      Price  Postcode  Bedroom2  Bathroom  Car  Landsize  \\\n",
       "1  Abbotsford      2  1480000.0    3067.0       2.0       1.0  1.0     202.0   \n",
       "2  Abbotsford      2  1035000.0    3067.0       2.0       1.0  0.0     156.0   \n",
       "4  Abbotsford      3  1465000.0    3067.0       3.0       2.0  0.0     134.0   \n",
       "5  Abbotsford      3   850000.0    3067.0       3.0       2.0  1.0      94.0   \n",
       "6  Abbotsford      4  1600000.0    3067.0       3.0       1.0  2.0     120.0   \n",
       "\n",
       "          CouncilArea  Distance  \n",
       "1  Yarra City Council       2.5  \n",
       "2  Yarra City Council       2.5  \n",
       "4  Yarra City Council       2.5  \n",
       "5  Yarra City Council       2.5  \n",
       "6  Yarra City Council       2.5  "
      ]
     },
     "execution_count": 49,
     "metadata": {},
     "output_type": "execute_result"
    }
   ],
   "source": [
    "### It appears that there could be a minor set of NANs in the data. These NANs can be removed from the data set.\n",
    "### features.\n",
    "\n",
    "features = features.dropna()\n",
    "features.info()\n",
    "features.head()"
   ]
  },
  {
   "cell_type": "code",
   "execution_count": 50,
   "metadata": {},
   "outputs": [
    {
     "name": "stdout",
     "output_type": "stream",
     "text": [
      "                            OLS Regression Results                            \n",
      "==============================================================================\n",
      "Dep. Variable:                  Price   R-squared:                       0.207\n",
      "Model:                            OLS   Adj. R-squared:                  0.207\n",
      "Method:                 Least Squares   F-statistic:                     4608.\n",
      "Date:                Sat, 06 Apr 2019   Prob (F-statistic):               0.00\n",
      "Time:                        04:32:08   Log-Likelihood:            -2.6010e+05\n",
      "No. Observations:               17698   AIC:                         5.202e+05\n",
      "Df Residuals:                   17696   BIC:                         5.202e+05\n",
      "Df Model:                           1                                         \n",
      "Covariance Type:            nonrobust                                         \n",
      "==============================================================================\n",
      "                 coef    std err          t      P>|t|      [0.025      0.975]\n",
      "------------------------------------------------------------------------------\n",
      "Intercept   1.262e+05   1.49e+04      8.452      0.000    9.69e+04    1.55e+05\n",
      "Rooms       3.173e+05   4673.938     67.880      0.000    3.08e+05    3.26e+05\n",
      "==============================================================================\n",
      "Omnibus:                     9991.401   Durbin-Watson:                   1.281\n",
      "Prob(Omnibus):                  0.000   Jarque-Bera (JB):           174611.860\n",
      "Skew:                           2.350   Prob(JB):                         0.00\n",
      "Kurtosis:                      17.652   Cond. No.                         11.8\n",
      "==============================================================================\n",
      "\n",
      "Warnings:\n",
      "[1] Standard Errors assume that the covariance matrix of the errors is correctly specified.\n"
     ]
    }
   ],
   "source": [
    "# Import regression modules\n",
    "import statsmodels.api as sm\n",
    "from statsmodels.formula.api import ols\n",
    "\n",
    "# statsmodels works nicely with pandas dataframes\n",
    "# The thing inside the \"quotes\" is called a formula, a bit on that below\n",
    "m = ols('Price ~ Rooms',features).fit()\n",
    "print(m.summary())"
   ]
  },
  {
   "cell_type": "code",
   "execution_count": 51,
   "metadata": {},
   "outputs": [
    {
     "data": {
      "image/png": "[encoded data removed]",
      "text/plain": [
       "<matplotlib.figure.Figure at 0x1c2561b320>"
      ]
     },
     "metadata": {},
     "output_type": "display_data"
    }
   ],
   "source": [
    "import seaborn as sns\n",
    "import matplotlib.pyplot as plt\n",
    "# your turn\n",
    "plt.scatter(m.fittedvalues, features.Price)\n",
    "plt.xlabel(\"Predicted Price\")\n",
    "plt.ylabel(\"Housing Actual Price\")\n",
    "plt.title(\"Relationship between Predicted and Actual Price\")\n",
    "plt.show()"
   ]
  },
  {
   "cell_type": "markdown",
   "metadata": {},
   "source": [
    "Based on the above plot, Predicted price doesnt appear to be varying linearly with actual price. This may be due to the strings (suburbs, CouncilArea) in the features. Therefore, we will consider the featue distance and ignore the locations."
   ]
  },
  {
   "cell_type": "code",
   "execution_count": 57,
   "metadata": {},
   "outputs": [
    {
     "name": "stdout",
     "output_type": "stream",
     "text": [
      "<class 'pandas.core.frame.DataFrame'>\n",
      "Int64Index: 17701 entries, 1 to 34856\n",
      "Data columns (total 7 columns):\n",
      "Rooms       17701 non-null int64\n",
      "Price       17701 non-null float64\n",
      "Bedroom2    17701 non-null float64\n",
      "Bathroom    17701 non-null float64\n",
      "Car         17701 non-null float64\n",
      "Landsize    17701 non-null float64\n",
      "Distance    17701 non-null float64\n",
      "dtypes: float64(6), int64(1)\n",
      "memory usage: 1.1 MB\n",
      "                            OLS Regression Results                            \n",
      "==============================================================================\n",
      "Dep. Variable:                  Price   R-squared:                       0.205\n",
      "Model:                            OLS   Adj. R-squared:                  0.204\n",
      "Method:                 Least Squares   F-statistic:                     4551.\n",
      "Date:                Sat, 06 Apr 2019   Prob (F-statistic):               0.00\n",
      "Time:                        04:35:13   Log-Likelihood:            -2.6017e+05\n",
      "No. Observations:               17701   AIC:                         5.203e+05\n",
      "Df Residuals:                   17699   BIC:                         5.204e+05\n",
      "Df Model:                           1                                         \n",
      "Covariance Type:            nonrobust                                         \n",
      "==============================================================================\n",
      "                 coef    std err          t      P>|t|      [0.025      0.975]\n",
      "------------------------------------------------------------------------------\n",
      "Intercept   1.359e+05   1.49e+04      9.136      0.000    1.07e+05    1.65e+05\n",
      "Rooms        3.14e+05   4653.859     67.460      0.000    3.05e+05    3.23e+05\n",
      "==============================================================================\n",
      "Omnibus:                     9967.788   Durbin-Watson:                   1.282\n",
      "Prob(Omnibus):                  0.000   Jarque-Bera (JB):           174980.488\n",
      "Skew:                           2.340   Prob(JB):                         0.00\n",
      "Kurtosis:                      17.674   Cond. No.                         11.8\n",
      "==============================================================================\n",
      "\n",
      "Warnings:\n",
      "[1] Standard Errors assume that the covariance matrix of the errors is correctly specified.\n"
     ]
    }
   ],
   "source": [
    "\n",
    "features = main_df[['Rooms','Price','Bedroom2','Bathroom','Car','Landsize','Distance']].copy()\n",
    "features = features.dropna()\n",
    "features.info()\n",
    "m = ols('Price ~ Rooms',features).fit()\n",
    "print(m.summary())"
   ]
  },
  {
   "cell_type": "markdown",
   "metadata": {},
   "source": [
    "#### Linear Regression fitting"
   ]
  },
  {
   "cell_type": "code",
   "execution_count": 58,
   "metadata": {},
   "outputs": [
    {
     "data": {
      "text/plain": [
       "LinearRegression(copy_X=True, fit_intercept=True, n_jobs=None,\n",
       "         normalize=False)"
      ]
     },
     "execution_count": 58,
     "metadata": {},
     "output_type": "execute_result"
    }
   ],
   "source": [
    "from sklearn.linear_model import LinearRegression\n",
    "X = features.drop('Price', axis = 1)\n",
    "Y = features.Price\n",
    "# This creates a LinearRegression object\n",
    "lm = LinearRegression()\n",
    "lm.fit(X,Y)\n",
    "lm"
   ]
  },
  {
   "cell_type": "code",
   "execution_count": 59,
   "metadata": {},
   "outputs": [
    {
     "name": "stdout",
     "output_type": "stream",
     "text": [
      "[ 2.48320600e+05  2.76403260e+04  2.10261971e+05  4.87701807e+04\n",
      "  5.16596037e+00 -3.79259819e+04]\n",
      "256273.1223248872\n"
     ]
    }
   ],
   "source": [
    "print(lm.coef_)\n",
    "\n",
    "\n",
    "print(lm.intercept_)"
   ]
  },
  {
   "cell_type": "code",
   "execution_count": 63,
   "metadata": {},
   "outputs": [
    {
     "name": "stdout",
     "output_type": "stream",
     "text": [
      "Estimated intercept coefficient: 256273.1223248872\n",
      "Number of coefficients: 6\n"
     ]
    },
    {
     "data": {
      "text/plain": [
       "array([ 973455.69442054,  924447.87957199, 1410557.12499887,\n",
       "       1459120.66725574, 1546083.79157168])"
      ]
     },
     "execution_count": 63,
     "metadata": {},
     "output_type": "execute_result"
    }
   ],
   "source": [
    "print('Estimated intercept coefficient: {}'.format(lm.intercept_))\n",
    "print('Number of coefficients: {}'.format(len(lm.coef_)))\n",
    "# The coefficients\n",
    "pd.DataFrame({'features': X.columns, 'estimatedCoefficients': lm.coef_})[['features', 'estimatedCoefficients']]\n",
    "# first five predicted prices\n",
    "lm.predict(X)[0:5]"
   ]
  },
  {
   "cell_type": "markdown",
   "metadata": {},
   "source": [
    "#### Evaluating the Model by using RSS (Residual sum of squares)"
   ]
  },
  {
   "cell_type": "code",
   "execution_count": 65,
   "metadata": {},
   "outputs": [
    {
     "name": "stdout",
     "output_type": "stream",
     "text": [
      "4730802884092992.0\n"
     ]
    }
   ],
   "source": [
    "import numpy as np\n",
    "print(np.sum((features.Price - lm.predict(X)) ** 2))"
   ]
  },
  {
   "cell_type": "markdown",
   "metadata": {},
   "source": [
    "Based on results derived in Data wrangling / Inferential stats, Location played a key role in price determination.\n",
    "Therefore we will fit a linear regression model based on 3 independent variables:\n",
    "    \n",
    "    1) Distance from City\n",
    "    2) Number of Rooms \n",
    "    3) Landsize"
   ]
  },
  {
   "cell_type": "markdown",
   "metadata": {},
   "source": [
    "#### Fitting the features onto a linear regression model and analysing the results"
   ]
  },
  {
   "cell_type": "code",
   "execution_count": 76,
   "metadata": {},
   "outputs": [
    {
     "name": "stdout",
     "output_type": "stream",
     "text": [
      "                            OLS Regression Results                            \n",
      "==============================================================================\n",
      "Dep. Variable:                  Price   R-squared:                       0.048\n",
      "Model:                            OLS   Adj. R-squared:                  0.048\n",
      "Method:                 Least Squares   F-statistic:                     895.1\n",
      "Date:                Sat, 06 Apr 2019   Prob (F-statistic):          6.75e-192\n",
      "Time:                        05:52:04   Log-Likelihood:            -2.6176e+05\n",
      "No. Observations:               17701   AIC:                         5.235e+05\n",
      "Df Residuals:                   17699   BIC:                         5.235e+05\n",
      "Df Model:                           1                                         \n",
      "Covariance Type:            nonrobust                                         \n",
      "==============================================================================\n",
      "                 coef    std err          t      P>|t|      [0.025      0.975]\n",
      "------------------------------------------------------------------------------\n",
      "Intercept   1.336e+06   9396.042    142.206      0.000    1.32e+06    1.35e+06\n",
      "Distance   -2.165e+04    723.701    -29.918      0.000   -2.31e+04   -2.02e+04\n",
      "==============================================================================\n",
      "Omnibus:                     9912.525   Durbin-Watson:                   1.422\n",
      "Prob(Omnibus):                  0.000   Jarque-Bera (JB):           143220.705\n",
      "Skew:                           2.393   Prob(JB):                         0.00\n",
      "Kurtosis:                      16.087   Cond. No.                         25.5\n",
      "==============================================================================\n",
      "\n",
      "Warnings:\n",
      "[1] Standard Errors assume that the covariance matrix of the errors is correctly specified.\n",
      "                            OLS Regression Results                            \n",
      "==============================================================================\n",
      "Dep. Variable:                  Price   R-squared:                       0.205\n",
      "Model:                            OLS   Adj. R-squared:                  0.204\n",
      "Method:                 Least Squares   F-statistic:                     4551.\n",
      "Date:                Sat, 06 Apr 2019   Prob (F-statistic):               0.00\n",
      "Time:                        05:52:04   Log-Likelihood:            -2.6017e+05\n",
      "No. Observations:               17701   AIC:                         5.203e+05\n",
      "Df Residuals:                   17699   BIC:                         5.204e+05\n",
      "Df Model:                           1                                         \n",
      "Covariance Type:            nonrobust                                         \n",
      "==============================================================================\n",
      "                 coef    std err          t      P>|t|      [0.025      0.975]\n",
      "------------------------------------------------------------------------------\n",
      "Intercept   1.359e+05   1.49e+04      9.136      0.000    1.07e+05    1.65e+05\n",
      "Rooms        3.14e+05   4653.859     67.460      0.000    3.05e+05    3.23e+05\n",
      "==============================================================================\n",
      "Omnibus:                     9967.788   Durbin-Watson:                   1.282\n",
      "Prob(Omnibus):                  0.000   Jarque-Bera (JB):           174980.488\n",
      "Skew:                           2.340   Prob(JB):                         0.00\n",
      "Kurtosis:                      17.674   Cond. No.                         11.8\n",
      "==============================================================================\n",
      "\n",
      "Warnings:\n",
      "[1] Standard Errors assume that the covariance matrix of the errors is correctly specified.\n",
      "                            OLS Regression Results                            \n",
      "==============================================================================\n",
      "Dep. Variable:                  Price   R-squared:                       0.001\n",
      "Model:                            OLS   Adj. R-squared:                  0.001\n",
      "Method:                 Least Squares   F-statistic:                     19.19\n",
      "Date:                Sat, 06 Apr 2019   Prob (F-statistic):           1.19e-05\n",
      "Time:                        05:52:04   Log-Likelihood:            -2.6219e+05\n",
      "No. Observations:               17701   AIC:                         5.244e+05\n",
      "Df Residuals:                   17699   BIC:                         5.244e+05\n",
      "Df Model:                           1                                         \n",
      "Covariance Type:            nonrobust                                         \n",
      "==============================================================================\n",
      "                 coef    std err          t      P>|t|      [0.025      0.975]\n",
      "------------------------------------------------------------------------------\n",
      "Intercept   1.091e+06   4986.632    218.841      0.000    1.08e+06     1.1e+06\n",
      "Landsize       5.7032      1.302      4.381      0.000       3.151       8.255\n",
      "==============================================================================\n",
      "Omnibus:                     9975.853   Durbin-Watson:                   1.406\n",
      "Prob(Omnibus):                  0.000   Jarque-Bera (JB):           133127.815\n",
      "Skew:                           2.444   Prob(JB):                         0.00\n",
      "Kurtosis:                      15.514   Cond. No.                     3.88e+03\n",
      "==============================================================================\n",
      "\n",
      "Warnings:\n",
      "[1] Standard Errors assume that the covariance matrix of the errors is correctly specified.\n",
      "[2] The condition number is large, 3.88e+03. This might indicate that there are\n",
      "strong multicollinearity or other numerical problems.\n",
      "                sum_sq       df           F         PR(>F)\n",
      "Distance  3.663712e+14      1.0  895.070882  6.745804e-192\n",
      "Residual  7.244570e+15  17699.0         NaN            NaN\n",
      "                sum_sq       df            F  PR(>F)\n",
      "Rooms     1.556712e+15      1.0  4550.908677     0.0\n",
      "Residual  6.054229e+15  17699.0          NaN     NaN\n",
      "                sum_sq       df          F    PR(>F)\n",
      "Landsize  8.243709e+12      1.0  19.191269  0.000012\n",
      "Residual  7.602697e+15  17699.0        NaN       NaN\n",
      "                            OLS Regression Results                            \n",
      "==============================================================================\n",
      "Dep. Variable:                  Price   R-squared:                       0.338\n",
      "Model:                            OLS   Adj. R-squared:                  0.338\n",
      "Method:                 Least Squares   F-statistic:                     3015.\n",
      "Date:                Sat, 06 Apr 2019   Prob (F-statistic):               0.00\n",
      "Time:                        05:52:04   Log-Likelihood:            -2.5854e+05\n",
      "No. Observations:               17701   AIC:                         5.171e+05\n",
      "Df Residuals:                   17697   BIC:                         5.171e+05\n",
      "Df Model:                           3                                         \n",
      "Covariance Type:            nonrobust                                         \n",
      "==============================================================================\n",
      "                 coef    std err          t      P>|t|      [0.025      0.975]\n",
      "------------------------------------------------------------------------------\n",
      "Intercept   3.235e+05   1.39e+04     23.218      0.000    2.96e+05    3.51e+05\n",
      "Distance   -3.766e+04    630.492    -59.727      0.000   -3.89e+04   -3.64e+04\n",
      "Rooms       3.889e+05   4430.944     87.770      0.000     3.8e+05    3.98e+05\n",
      "Landsize       6.0539      1.062      5.703      0.000       3.973       8.135\n",
      "==============================================================================\n",
      "Omnibus:                    10769.852   Durbin-Watson:                   1.409\n",
      "Prob(Omnibus):                  0.000   Jarque-Bera (JB):           270353.330\n",
      "Skew:                           2.480   Prob(JB):                         0.00\n",
      "Kurtosis:                      21.492   Cond. No.                     1.38e+04\n",
      "==============================================================================\n",
      "\n",
      "Warnings:\n",
      "[1] Standard Errors assume that the covariance matrix of the errors is correctly specified.\n",
      "[2] The condition number is large, 1.38e+04. This might indicate that there are\n",
      "strong multicollinearity or other numerical problems.\n"
     ]
    }
   ],
   "source": [
    "m_dist = ols('Price ~ Distance',features).fit()\n",
    "print(m_dist.summary())\n",
    "\n",
    "m_rm = ols('Price ~ Rooms',features).fit()\n",
    "print(m_rm.summary())\n",
    "\n",
    "m_land = ols('Price ~ Landsize',features).fit()\n",
    "print(m_land.summary())\n",
    "\n",
    "# F-Statistic and R-Squared statistic\n",
    "aov_dist = sm.stats.anova_lm(m_dist, typ=2)\n",
    "print(aov_dist)\n",
    "\n",
    "# F-Statistic and R-Squared statistic\n",
    "aov_rm = sm.stats.anova_lm(m_rm, typ=2)\n",
    "print(aov_rm)\n",
    "\n",
    "# F-Statistic and R-Squared statistic\n",
    "aov_land = sm.stats.anova_lm(m_land, typ=2)\n",
    "print(aov_land)\n",
    "\n",
    "\n",
    "# Analysing the above results, it appears that the F-Statistic and R-Squared values are high for RM.\n",
    "# We can conclude that RM(Number of rooms) is a significant feature in predicting the model followed by \n",
    "# PTR (Student Teacher ratio)\n",
    "\n",
    "# Constructing the model with all the 3 features\n",
    "m_complete = ols('Price ~ Distance + Rooms + Landsize',features).fit()\n",
    "print(m_complete.summary())"
   ]
  },
  {
   "cell_type": "markdown",
   "metadata": {},
   "source": [
    "#### Plotting and analysing the summary"
   ]
  },
  {
   "cell_type": "code",
   "execution_count": 81,
   "metadata": {},
   "outputs": [
    {
     "data": {
      "text/plain": [
       "Text(0.5,1,'Fitted VS Residuals')"
      ]
     },
     "execution_count": 81,
     "metadata": {},
     "output_type": "execute_result"
    },
    {
     "data": {
      "image/png": "[encoded data removed]",
      "text/plain": [
       "<matplotlib.figure.Figure at 0x11a9cd400>"
      ]
     },
     "metadata": {},
     "output_type": "display_data"
    }
   ],
   "source": [
    "import statsmodels.formula.api as sm\n",
    "msm = sm.ols(formula='Price ~ Distance + Rooms + Landsize', data=features)\n",
    "fitted = msm.fit()\n",
    "\n",
    "## Fitted values VS Residual plot\n",
    "plt.plot(fitted.fittedvalues, fitted.resid_pearson,'ro')\n",
    "plt.ylim(-4, 20)\n",
    "plt.xlim(-5,6000000)\n",
    "plt.xlabel('Fitted Values')\n",
    "plt.ylabel('Residuals')\n",
    "plt.title('Fitted VS Residuals')\n",
    "\n"
   ]
  },
  {
   "cell_type": "code",
   "execution_count": 82,
   "metadata": {},
   "outputs": [
    {
     "data": {
      "image/png": "[encoded data removed]",
      "text/plain": [
       "<matplotlib.figure.Figure at 0x119d6aa20>"
      ]
     },
     "metadata": {},
     "output_type": "display_data"
    }
   ],
   "source": [
    "# Quantile plot\n",
    "import statsmodels.api as sm\n",
    "import pylab\n",
    "\n",
    "sm.qqplot(fitted.resid_pearson, line='45')\n",
    "pylab.show()"
   ]
  }
 ],
 "metadata": {
  "kernelspec": {
   "display_name": "Python 3",
   "language": "python",
   "name": "python3"
  },
  "language_info": {
   "codemirror_mode": {
    "name": "ipython",
    "version": 3
   },
   "file_extension": ".py",
   "mimetype": "text/x-python",
   "name": "python",
   "nbconvert_exporter": "python",
   "pygments_lexer": "ipython3",
   "version": "3.6.4"
  }
 },
 "nbformat": 4,
 "nbformat_minor": 2
}
