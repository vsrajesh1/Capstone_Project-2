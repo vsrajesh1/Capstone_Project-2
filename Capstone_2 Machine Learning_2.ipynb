{
 "cells": [
  {
   "cell_type": "markdown",
   "metadata": {},
   "source": [
    "### Building Machine Learning Model using Linear Regression technique"
   ]
  },
  {
   "cell_type": "code",
   "execution_count": 1,
   "metadata": {},
   "outputs": [
    {
     "name": "stdout",
     "output_type": "stream",
     "text": [
      "<class 'pandas.core.frame.DataFrame'>\n",
      "RangeIndex: 34857 entries, 0 to 34856\n",
      "Data columns (total 21 columns):\n",
      "Suburb           34857 non-null object\n",
      "Address          34857 non-null object\n",
      "Rooms            34857 non-null int64\n",
      "Type             34857 non-null object\n",
      "Price            27247 non-null float64\n",
      "Method           34857 non-null object\n",
      "SellerG          34857 non-null object\n",
      "Date             34857 non-null object\n",
      "Distance         34856 non-null float64\n",
      "Postcode         34856 non-null float64\n",
      "Bedroom2         26640 non-null float64\n",
      "Bathroom         26631 non-null float64\n",
      "Car              26129 non-null float64\n",
      "Landsize         23047 non-null float64\n",
      "BuildingArea     13742 non-null float64\n",
      "YearBuilt        15551 non-null float64\n",
      "CouncilArea      34854 non-null object\n",
      "Lattitude        26881 non-null float64\n",
      "Longtitude       26881 non-null float64\n",
      "Regionname       34854 non-null object\n",
      "Propertycount    34854 non-null float64\n",
      "dtypes: float64(12), int64(1), object(8)\n",
      "memory usage: 5.6+ MB\n",
      "None\n"
     ]
    }
   ],
   "source": [
    "import json\n",
    "import requests\n",
    "import pandas as pd\n",
    "from pandas.io.json import json_normalize \n",
    "dictionary = pd.read_csv('data/MELBOURNE_HOUSE_PRICES_LESS.csv')\n",
    "main       = pd.read_csv(\"data/Melbourne_housing_FULL.csv\")\n",
    "dict_df = pd.DataFrame.from_dict(dictionary, orient='columns', dtype=None)\n",
    "main_df = pd.DataFrame.from_dict(main, orient='columns', dtype=None)\n",
    "print(main_df.info())"
   ]
  },
  {
   "cell_type": "code",
   "execution_count": 2,
   "metadata": {},
   "outputs": [
    {
     "name": "stdout",
     "output_type": "stream",
     "text": [
      "<class 'pandas.core.frame.DataFrame'>\n",
      "RangeIndex: 34857 entries, 0 to 34856\n",
      "Data columns (total 7 columns):\n",
      "Rooms       34857 non-null int64\n",
      "Price       27247 non-null float64\n",
      "Bedroom2    26640 non-null float64\n",
      "Bathroom    26631 non-null float64\n",
      "Car         26129 non-null float64\n",
      "Landsize    23047 non-null float64\n",
      "Distance    34856 non-null float64\n",
      "dtypes: float64(6), int64(1)\n",
      "memory usage: 1.9 MB\n"
     ]
    },
    {
     "data": {
      "text/html": [
       "<div>\n",
       "<style scoped>\n",
       "    .dataframe tbody tr th:only-of-type {\n",
       "        vertical-align: middle;\n",
       "    }\n",
       "\n",
       "    .dataframe tbody tr th {\n",
       "        vertical-align: top;\n",
       "    }\n",
       "\n",
       "    .dataframe thead th {\n",
       "        text-align: right;\n",
       "    }\n",
       "</style>\n",
       "<table border=\"1\" class=\"dataframe\">\n",
       "  <thead>\n",
       "    <tr style=\"text-align: right;\">\n",
       "      <th></th>\n",
       "      <th>Rooms</th>\n",
       "      <th>Price</th>\n",
       "      <th>Bedroom2</th>\n",
       "      <th>Bathroom</th>\n",
       "      <th>Car</th>\n",
       "      <th>Landsize</th>\n",
       "      <th>Distance</th>\n",
       "    </tr>\n",
       "  </thead>\n",
       "  <tbody>\n",
       "    <tr>\n",
       "      <th>0</th>\n",
       "      <td>2</td>\n",
       "      <td>NaN</td>\n",
       "      <td>2.0</td>\n",
       "      <td>1.0</td>\n",
       "      <td>1.0</td>\n",
       "      <td>126.0</td>\n",
       "      <td>2.5</td>\n",
       "    </tr>\n",
       "    <tr>\n",
       "      <th>1</th>\n",
       "      <td>2</td>\n",
       "      <td>1480000.0</td>\n",
       "      <td>2.0</td>\n",
       "      <td>1.0</td>\n",
       "      <td>1.0</td>\n",
       "      <td>202.0</td>\n",
       "      <td>2.5</td>\n",
       "    </tr>\n",
       "    <tr>\n",
       "      <th>2</th>\n",
       "      <td>2</td>\n",
       "      <td>1035000.0</td>\n",
       "      <td>2.0</td>\n",
       "      <td>1.0</td>\n",
       "      <td>0.0</td>\n",
       "      <td>156.0</td>\n",
       "      <td>2.5</td>\n",
       "    </tr>\n",
       "    <tr>\n",
       "      <th>3</th>\n",
       "      <td>3</td>\n",
       "      <td>NaN</td>\n",
       "      <td>3.0</td>\n",
       "      <td>2.0</td>\n",
       "      <td>1.0</td>\n",
       "      <td>0.0</td>\n",
       "      <td>2.5</td>\n",
       "    </tr>\n",
       "    <tr>\n",
       "      <th>4</th>\n",
       "      <td>3</td>\n",
       "      <td>1465000.0</td>\n",
       "      <td>3.0</td>\n",
       "      <td>2.0</td>\n",
       "      <td>0.0</td>\n",
       "      <td>134.0</td>\n",
       "      <td>2.5</td>\n",
       "    </tr>\n",
       "  </tbody>\n",
       "</table>\n",
       "</div>"
      ],
      "text/plain": [
       "   Rooms      Price  Bedroom2  Bathroom  Car  Landsize  Distance\n",
       "0      2        NaN       2.0       1.0  1.0     126.0       2.5\n",
       "1      2  1480000.0       2.0       1.0  1.0     202.0       2.5\n",
       "2      2  1035000.0       2.0       1.0  0.0     156.0       2.5\n",
       "3      3        NaN       3.0       2.0  1.0       0.0       2.5\n",
       "4      3  1465000.0       3.0       2.0  0.0     134.0       2.5"
      ]
     },
     "execution_count": 2,
     "metadata": {},
     "output_type": "execute_result"
    }
   ],
   "source": [
    "### Removing the outliers\n",
    "filter_df = main_df[main_df['Landsize'] < 3000]\n",
    "filter_df = main_df[main_df['Price'] < 4000000]\n",
    "filter_df = main_df[main_df['Rooms'] < 10]\n",
    "\n",
    "# Segregating the features that have an influence on the price.\n",
    "#features = filter_df[['Suburb','Rooms','Price','Postcode','Bedroom2','Bathroom','Car','Landsize','CouncilArea','Distance']].copy()\n",
    "features = main_df[['Rooms','Price','Bedroom2','Bathroom','Car','Landsize','Distance']].copy()\n",
    "features.info()\n",
    "features.head()"
   ]
  },
  {
   "cell_type": "markdown",
   "metadata": {},
   "source": [
    "Looks like there are some NAN entries in the columns. AS the number of NAN appears to be a small number, we will remove the NAN's as opposed to performing imputation"
   ]
  },
  {
   "cell_type": "code",
   "execution_count": 3,
   "metadata": {},
   "outputs": [
    {
     "name": "stdout",
     "output_type": "stream",
     "text": [
      "<class 'pandas.core.frame.DataFrame'>\n",
      "Int64Index: 17701 entries, 1 to 34856\n",
      "Data columns (total 7 columns):\n",
      "Rooms       17701 non-null int64\n",
      "Price       17701 non-null float64\n",
      "Bedroom2    17701 non-null float64\n",
      "Bathroom    17701 non-null float64\n",
      "Car         17701 non-null float64\n",
      "Landsize    17701 non-null float64\n",
      "Distance    17701 non-null float64\n",
      "dtypes: float64(6), int64(1)\n",
      "memory usage: 1.1 MB\n"
     ]
    },
    {
     "data": {
      "text/html": [
       "<div>\n",
       "<style scoped>\n",
       "    .dataframe tbody tr th:only-of-type {\n",
       "        vertical-align: middle;\n",
       "    }\n",
       "\n",
       "    .dataframe tbody tr th {\n",
       "        vertical-align: top;\n",
       "    }\n",
       "\n",
       "    .dataframe thead th {\n",
       "        text-align: right;\n",
       "    }\n",
       "</style>\n",
       "<table border=\"1\" class=\"dataframe\">\n",
       "  <thead>\n",
       "    <tr style=\"text-align: right;\">\n",
       "      <th></th>\n",
       "      <th>Rooms</th>\n",
       "      <th>Price</th>\n",
       "      <th>Bedroom2</th>\n",
       "      <th>Bathroom</th>\n",
       "      <th>Car</th>\n",
       "      <th>Landsize</th>\n",
       "      <th>Distance</th>\n",
       "    </tr>\n",
       "  </thead>\n",
       "  <tbody>\n",
       "    <tr>\n",
       "      <th>1</th>\n",
       "      <td>2</td>\n",
       "      <td>1480000.0</td>\n",
       "      <td>2.0</td>\n",
       "      <td>1.0</td>\n",
       "      <td>1.0</td>\n",
       "      <td>202.0</td>\n",
       "      <td>2.5</td>\n",
       "    </tr>\n",
       "    <tr>\n",
       "      <th>2</th>\n",
       "      <td>2</td>\n",
       "      <td>1035000.0</td>\n",
       "      <td>2.0</td>\n",
       "      <td>1.0</td>\n",
       "      <td>0.0</td>\n",
       "      <td>156.0</td>\n",
       "      <td>2.5</td>\n",
       "    </tr>\n",
       "    <tr>\n",
       "      <th>4</th>\n",
       "      <td>3</td>\n",
       "      <td>1465000.0</td>\n",
       "      <td>3.0</td>\n",
       "      <td>2.0</td>\n",
       "      <td>0.0</td>\n",
       "      <td>134.0</td>\n",
       "      <td>2.5</td>\n",
       "    </tr>\n",
       "    <tr>\n",
       "      <th>5</th>\n",
       "      <td>3</td>\n",
       "      <td>850000.0</td>\n",
       "      <td>3.0</td>\n",
       "      <td>2.0</td>\n",
       "      <td>1.0</td>\n",
       "      <td>94.0</td>\n",
       "      <td>2.5</td>\n",
       "    </tr>\n",
       "    <tr>\n",
       "      <th>6</th>\n",
       "      <td>4</td>\n",
       "      <td>1600000.0</td>\n",
       "      <td>3.0</td>\n",
       "      <td>1.0</td>\n",
       "      <td>2.0</td>\n",
       "      <td>120.0</td>\n",
       "      <td>2.5</td>\n",
       "    </tr>\n",
       "  </tbody>\n",
       "</table>\n",
       "</div>"
      ],
      "text/plain": [
       "   Rooms      Price  Bedroom2  Bathroom  Car  Landsize  Distance\n",
       "1      2  1480000.0       2.0       1.0  1.0     202.0       2.5\n",
       "2      2  1035000.0       2.0       1.0  0.0     156.0       2.5\n",
       "4      3  1465000.0       3.0       2.0  0.0     134.0       2.5\n",
       "5      3   850000.0       3.0       2.0  1.0      94.0       2.5\n",
       "6      4  1600000.0       3.0       1.0  2.0     120.0       2.5"
      ]
     },
     "execution_count": 3,
     "metadata": {},
     "output_type": "execute_result"
    }
   ],
   "source": [
    "features = features.dropna()\n",
    "features.info()\n",
    "features.head()"
   ]
  },
  {
   "cell_type": "markdown",
   "metadata": {},
   "source": [
    "We will only be considering numberical features to fit and predict models. Therefore we can remove the features involving strings i.e. Suburb, Councilname etc. Although these 'Location' based features have a great influence on the Target, feature 'Distance (from city)' will balance the absence of location features. "
   ]
  },
  {
   "cell_type": "markdown",
   "metadata": {},
   "source": [
    "#### Using the Stats Models and analysing the Regression results"
   ]
  },
  {
   "cell_type": "code",
   "execution_count": 4,
   "metadata": {},
   "outputs": [
    {
     "name": "stderr",
     "output_type": "stream",
     "text": [
      "/Users/srinivas/Desktop/Anaconda/anaconda3/lib/python3.6/site-packages/statsmodels/compat/pandas.py:56: FutureWarning: The pandas.core.datetools module is deprecated and will be removed in a future version. Please use the pandas.tseries module instead.\n",
      "  from pandas.core import datetools\n"
     ]
    },
    {
     "name": "stdout",
     "output_type": "stream",
     "text": [
      "                            OLS Regression Results                            \n",
      "==============================================================================\n",
      "Dep. Variable:                  Price   R-squared:                       0.205\n",
      "Model:                            OLS   Adj. R-squared:                  0.204\n",
      "Method:                 Least Squares   F-statistic:                     4551.\n",
      "Date:                Fri, 19 Apr 2019   Prob (F-statistic):               0.00\n",
      "Time:                        16:31:07   Log-Likelihood:            -1.3790e+05\n",
      "No. Observations:               17701   AIC:                         2.758e+05\n",
      "Df Residuals:                   17699   BIC:                         2.758e+05\n",
      "Df Model:                           1                                         \n",
      "Covariance Type:            nonrobust                                         \n",
      "==============================================================================\n",
      "                 coef    std err          t      P>|t|      [0.025      0.975]\n",
      "------------------------------------------------------------------------------\n",
      "Intercept    135.9141     14.876      9.136      0.000     106.755     165.073\n",
      "Rooms        313.9513      4.654     67.460      0.000     304.829     323.073\n",
      "==============================================================================\n",
      "Omnibus:                     9967.788   Durbin-Watson:                   1.282\n",
      "Prob(Omnibus):                  0.000   Jarque-Bera (JB):           174980.488\n",
      "Skew:                           2.340   Prob(JB):                         0.00\n",
      "Kurtosis:                      17.674   Cond. No.                         11.8\n",
      "==============================================================================\n",
      "\n",
      "Warnings:\n",
      "[1] Standard Errors assume that the covariance matrix of the errors is correctly specified.\n"
     ]
    }
   ],
   "source": [
    "# Import regression modules\n",
    "import statsmodels.api as sm\n",
    "from statsmodels.formula.api import ols\n",
    "\n",
    "# Divide the price by 1000 to get R-Coeff and std.error as numbers without exponential.\n",
    "# During the price prediction, we can multiply the price by 1000 to get actual value.\n",
    "actual_price = features.Price\n",
    "features.Price = features.Price / 1000\n",
    "\n",
    "# statsmodels works nicely with pandas dataframes\n",
    "# The thing inside the \"quotes\" is called a formula, a bit on that below\n",
    "m = ols('Price ~ Rooms',features).fit()\n",
    "print(m.summary())"
   ]
  },
  {
   "cell_type": "markdown",
   "metadata": {},
   "source": [
    "Based on the results:\n",
    "    \n",
    "    1) The coefficient of 313.95 means that as the RM variable increases by 1 i.e. predicted value of Price \n",
    "    increases by 313.95(multiplied by 1000) i.e. 313950. So for every additional room added to the house, the house\n",
    "    price increases by 313950\n",
    "     \n",
    "    2) 95% confidence interval varies from 304.829 to 323.073 (multiply by 1000 for actual Price value).\n",
    "    \n",
    "    3) The percentage of variance our model explains i.e. R-squared value is 0.205"
   ]
  },
  {
   "cell_type": "markdown",
   "metadata": {},
   "source": [
    "#### Using Sci-kit Learn to build Linear Regression model and analysing the Regression results"
   ]
  },
  {
   "cell_type": "code",
   "execution_count": 5,
   "metadata": {},
   "outputs": [
    {
     "data": {
      "text/plain": [
       "LinearRegression(copy_X=True, fit_intercept=True, n_jobs=None,\n",
       "         normalize=False)"
      ]
     },
     "execution_count": 5,
     "metadata": {},
     "output_type": "execute_result"
    }
   ],
   "source": [
    "from sklearn.linear_model import LinearRegression\n",
    "X = features.drop('Price', axis = 1)\n",
    "Y = actual_price # features.Price\n",
    "# This creates a LinearRegression object\n",
    "lm = LinearRegression()\n",
    "lm.fit(X,Y)\n",
    "lm"
   ]
  },
  {
   "cell_type": "code",
   "execution_count": 6,
   "metadata": {},
   "outputs": [
    {
     "name": "stdout",
     "output_type": "stream",
     "text": [
      "Estimated intercept coefficient: 256.27312232489226\n",
      "Number of coefficients: 6\n"
     ]
    },
    {
     "data": {
      "text/plain": [
       "array([ 973.45569442,  924.44787957, 1410.557125  , 1459.12066726,\n",
       "       1546.08379157])"
      ]
     },
     "execution_count": 6,
     "metadata": {},
     "output_type": "execute_result"
    }
   ],
   "source": [
    "print('Estimated intercept coefficient: {}'.format(lm.intercept_))\n",
    "print('Number of coefficients: {}'.format(len(lm.coef_)))\n",
    "# The coefficients\n",
    "pd.DataFrame({'features': X.columns, 'estimatedCoefficients': lm.coef_})[['features', 'estimatedCoefficients']]\n",
    "# first five predicted prices\n",
    "lm.predict(X)[0:5]"
   ]
  },
  {
   "cell_type": "code",
   "execution_count": 7,
   "metadata": {},
   "outputs": [
    {
     "name": "stdout",
     "output_type": "stream",
     "text": [
      "Percentage of explained variance of predictions, R2: 0.3784207688717214\n",
      "Intercept of the linear Regression is: 256.27312232489226\n"
     ]
    }
   ],
   "source": [
    "# R square - Percentage of explained variance of predictions can be obtained by:\n",
    "print('Percentage of explained variance of predictions, R2: {}'.format(lm.score(X,Y)))\n",
    "\n",
    "# Intercept can be obtained by:\n",
    "print('Intercept of the linear Regression is: {}'.format(lm.intercept_))"
   ]
  },
  {
   "cell_type": "markdown",
   "metadata": {},
   "source": [
    "#### Histogram of Predicted price vs Frequency"
   ]
  },
  {
   "cell_type": "code",
   "execution_count": 9,
   "metadata": {},
   "outputs": [
    {
     "data": {
      "image/png": "[encoded data removed]",
      "text/plain": [
       "<matplotlib.figure.Figure at 0x1c1c8b2630>"
      ]
     },
     "metadata": {},
     "output_type": "display_data"
    }
   ],
   "source": [
    "import seaborn as sns\n",
    "import matplotlib.pyplot as plt\n",
    "import numpy as np\n",
    "plt.hist(lm.predict(X))\n",
    "#plt.title(\"\")\n",
    "plt.xlabel(\"Predicted price\")\n",
    "plt.ylabel(\"Frequency\")\n",
    "plt.show()\n",
    "\n"
   ]
  },
  {
   "cell_type": "markdown",
   "metadata": {},
   "source": [
    "#### Compare Actual price vs Predicted Price"
   ]
  },
  {
   "cell_type": "code",
   "execution_count": 10,
   "metadata": {},
   "outputs": [
    {
     "data": {
      "text/plain": [
       "Text(0,0.5,'Predicted price')"
      ]
     },
     "execution_count": 10,
     "metadata": {},
     "output_type": "execute_result"
    },
    {
     "data": {
      "image/png": "[encoded data removed]",
      "text/plain": [
       "<matplotlib.figure.Figure at 0x1c1ba4e320>"
      ]
     },
     "metadata": {},
     "output_type": "display_data"
    }
   ],
   "source": [
    "plt.scatter(Y,lm.predict(X))\n",
    "plt.xlabel(\"Actual price\")\n",
    "plt.ylabel(\"Predicted price\")"
   ]
  },
  {
   "cell_type": "markdown",
   "metadata": {},
   "source": [
    "#### Split the data into training and test sets in order to conduct further analysis"
   ]
  },
  {
   "cell_type": "code",
   "execution_count": 11,
   "metadata": {},
   "outputs": [
    {
     "name": "stdout",
     "output_type": "stream",
     "text": [
      "(11859, 6)\n",
      "(5842, 6)\n",
      "(11859,)\n",
      "(5842,)\n"
     ]
    }
   ],
   "source": [
    "from sklearn.model_selection import train_test_split\n",
    "\n",
    "X_train, X_test, Y_train, Y_test = train_test_split(X,Y,test_size=0.33,random_state=5)\n",
    "print(X_train.shape)\n",
    "print(X_test.shape)\n",
    "print(Y_train.shape)\n",
    "print(Y_test.shape)"
   ]
  },
  {
   "cell_type": "markdown",
   "metadata": {},
   "source": [
    "##### Build a linear regression model using train/ test datasets"
   ]
  },
  {
   "cell_type": "code",
   "execution_count": 12,
   "metadata": {},
   "outputs": [],
   "source": [
    "lm1 = LinearRegression()\n",
    "lm1.fit(X_train, Y_train)\n",
    "predict_train = lm1.predict(X_train)\n",
    "predict_test  = lm1.predict(X_test)"
   ]
  },
  {
   "cell_type": "markdown",
   "metadata": {},
   "source": [
    "##### RMSE: Root Mean squared error"
   ]
  },
  {
   "cell_type": "code",
   "execution_count": 13,
   "metadata": {},
   "outputs": [
    {
     "name": "stdout",
     "output_type": "stream",
     "text": [
      "Root Mean squared error of training data: 526.9834621393833\n",
      "Root Mean squared error of test data: 501.08065616287547\n"
     ]
    }
   ],
   "source": [
    "from sklearn.metrics import mean_squared_error\n",
    "from math import sqrt\n",
    "\n",
    "print(\"Root Mean squared error of training data:\", sqrt(mean_squared_error(Y_train,predict_train)))\n",
    "print(\"Root Mean squared error of test data:\", sqrt(mean_squared_error(Y_test,predict_test)))\n",
    "#print(\"Root Mean squared error of test data:\", np.mean((Y_test - lm.predict(X_test)) ** 2))"
   ]
  },
  {
   "cell_type": "markdown",
   "metadata": {},
   "source": [
    "RMSE of test data is lesser than that of Training data. Therefore the variance is decreasing and Model is performing better with test data."
   ]
  },
  {
   "cell_type": "markdown",
   "metadata": {},
   "source": [
    "##### Absolute Error"
   ]
  },
  {
   "cell_type": "code",
   "execution_count": 14,
   "metadata": {},
   "outputs": [
    {
     "name": "stdout",
     "output_type": "stream",
     "text": [
      "Mean absolute error of training data: 365.2048798713008\n",
      "Mean absolute error of test data: 356.0574935750628\n"
     ]
    }
   ],
   "source": [
    "from sklearn.metrics import mean_absolute_error\n",
    "\n",
    "\n",
    "print(\"Mean absolute error of training data:\", mean_absolute_error(Y_train,predict_train))\n",
    "print(\"Mean absolute error of test data:\", mean_absolute_error(Y_test,predict_test))"
   ]
  },
  {
   "cell_type": "markdown",
   "metadata": {},
   "source": [
    "An abolute error of 356 for the test dataset implies that our model will perform better, considering the fact that sales figures are in millions"
   ]
  },
  {
   "cell_type": "markdown",
   "metadata": {},
   "source": [
    "#### Mean absolute Percentage error"
   ]
  },
  {
   "cell_type": "code",
   "execution_count": 15,
   "metadata": {},
   "outputs": [
    {
     "name": "stdout",
     "output_type": "stream",
     "text": [
      "Mean absolute Percentage error of training data: 0.00013996677978016705\n",
      "Mean absolute Percentage error of test data: 2.2060696216249794e-05\n"
     ]
    }
   ],
   "source": [
    "import numpy as np\n",
    "\n",
    "mape_sum = 0\n",
    "#def mean_absolute_percentage_error(y_true, y_pred):\n",
    "#    y_true, y_pred = np.array(y_true), np.array(y_pred)\n",
    "#    return np.mean(np.abs((y_true - y_pred) / y_true)) * 100\n",
    "\n",
    "def mean_absolute_error(y_actual, y_pred):\n",
    "    for yA,yP in zip(y_actual, y_pred):\n",
    "        mape = 0\n",
    "        mape += np.abs((yA - yP) / yA)\n",
    "        \n",
    "    return mape\n",
    "\n",
    "mape_sum = mean_absolute_error(Y_train, predict_train)        \n",
    "mape_train = mape_sum/len(Y_train)\n",
    "print(\"Mean absolute Percentage error of training data:\",mape_train)\n",
    "\n",
    "mape_sum = 0\n",
    "mape_sum = mean_absolute_error(Y_test, predict_test)        \n",
    "mape_test = mape_sum/len(Y_test)\n",
    "print(\"Mean absolute Percentage error of test data:\",mape_test)\n",
    "\n",
    "#print(\"Mean absolute Percentage error of training data:\", mean_absolute_percentage_error(Y_train,predict_train))\n",
    "#print(\"Mean absolute Percentage error of test data:\", mean_absolute_percentage_error(Y_test,predict_test))"
   ]
  },
  {
   "cell_type": "markdown",
   "metadata": {},
   "source": [
    "Mean absolute percentage error value is minimal for the model."
   ]
  },
  {
   "cell_type": "markdown",
   "metadata": {},
   "source": [
    "#### Plotting the Residuals of training and test data set"
   ]
  },
  {
   "cell_type": "code",
   "execution_count": 16,
   "metadata": {},
   "outputs": [
    {
     "data": {
      "image/png": "[encoded data removed]",
      "text/plain": [
       "<matplotlib.figure.Figure at 0x1c1c968438>"
      ]
     },
     "metadata": {},
     "output_type": "display_data"
    }
   ],
   "source": [
    "from sklearn.linear_model import Ridge\n",
    "from yellowbrick.regressor import ResidualsPlot\n",
    "\n",
    "# Instantiate the linear model and visualizer\n",
    "ridge = Ridge()\n",
    "visualizer = ResidualsPlot(ridge)\n",
    "\n",
    "visualizer.fit(X_train, Y_train)  # Fit the training data to the model\n",
    "visualizer.score(X_test, Y_test)  # Evaluate the model on the test data\n",
    "visualizer.poof()                 # Draw/show/poof the data"
   ]
  },
  {
   "cell_type": "markdown",
   "metadata": {},
   "source": [
    "Residuals of 0.38 for training / test data appears to be smaller value"
   ]
  },
  {
   "cell_type": "code",
   "execution_count": 17,
   "metadata": {},
   "outputs": [
    {
     "data": {
      "image/png": "[encoded data removed]",
      "text/plain": [
       "<matplotlib.figure.Figure at 0x1c1ce58400>"
      ]
     },
     "metadata": {},
     "output_type": "display_data"
    },
    {
     "data": {
      "image/png": "[encoded data removed]",
      "text/plain": [
       "<matplotlib.figure.Figure at 0x1c1ce80f28>"
      ]
     },
     "metadata": {},
     "output_type": "display_data"
    }
   ],
   "source": [
    "plt.hist2d(Y_train, predict_train, bins=30, cmap='Blues')\n",
    "cb = plt.colorbar()\n",
    "cb.set_label('counts in bin')\n",
    "plt.show()\n",
    "plt.hist2d(Y_test, predict_test, bins=30, cmap='Greens')\n",
    "cb = plt.colorbar()\n",
    "cb.set_label('counts in bin')\n",
    "plt.show()"
   ]
  },
  {
   "cell_type": "markdown",
   "metadata": {},
   "source": [
    "#### XGBOOST Technique"
   ]
  },
  {
   "cell_type": "code",
   "execution_count": 44,
   "metadata": {},
   "outputs": [
    {
     "name": "stdout",
     "output_type": "stream",
     "text": [
      "RMSE_Test: 673.764591\n",
      "RMSE_Train: 699.660202\n"
     ]
    }
   ],
   "source": [
    "import xgboost as xgb\n",
    "\n",
    "xg_reg = xgb.XGBRegressor(objective ='reg:linear', colsample_bytree = 0.3, learning_rate = 0.1,\n",
    "                max_depth = 5, alpha = 10, n_estimators = 10)\n",
    "\n",
    "xg_reg.fit(X_train,Y_train)\n",
    "\n",
    "pred_test = xg_reg.predict(X_test)\n",
    "pred_train = xg_reg.predict(X_train)\n",
    "\n",
    "rmse_test = np.sqrt(mean_squared_error(Y_test, pred_test))\n",
    "print(\"RMSE_Test: %f\" % (rmse_test))\n",
    "\n",
    "rmse_train = np.sqrt(mean_squared_error(Y_train, pred_train))\n",
    "print(\"RMSE_Train: %f\" % (rmse_train))"
   ]
  },
  {
   "cell_type": "markdown",
   "metadata": {},
   "source": [
    "Root Mean squared error(Test) for the price prediction came out to be around 673.76 for the house prices. RMSE calculated from SkLearn is 501.08"
   ]
  },
  {
   "cell_type": "markdown",
   "metadata": {},
   "source": [
    "##### XG Boost- Calculate Mean absolute error"
   ]
  },
  {
   "cell_type": "code",
   "execution_count": 23,
   "metadata": {},
   "outputs": [
    {
     "name": "stdout",
     "output_type": "stream",
     "text": [
      "Mean Absolute Error of test data: 428.24943397529813\n",
      "Mean Absolute Error of training data: 436.14051648895196\n"
     ]
    }
   ],
   "source": [
    "from sklearn.metrics import mean_absolute_error\n",
    "#Computing the MAE of our predictions\n",
    "print(\"Mean Absolute Error of test data: \" + str(mean_absolute_error(pred_test, Y_test)))\n",
    "print(\"Mean Absolute Error of training data: \" + str(mean_absolute_error(pred_train, Y_train)))"
   ]
  },
  {
   "cell_type": "markdown",
   "metadata": {},
   "source": [
    "#### XG Boost - Calculate Mean absolute percentage error"
   ]
  },
  {
   "cell_type": "code",
   "execution_count": 24,
   "metadata": {},
   "outputs": [
    {
     "name": "stdout",
     "output_type": "stream",
     "text": [
      "Mean absolute Percentage error of training data: 0.03677717484517683\n",
      "Mean absolute Percentage error of test data: 0.07330527798276243\n"
     ]
    }
   ],
   "source": [
    "mape_sum_xg = mean_absolute_error(Y_train, pred_train)        \n",
    "mape_train_xg = mape_sum_xg/len(Y_train)\n",
    "print(\"Mean absolute Percentage error of training data:\",mape_train_xg)\n",
    "\n",
    "mape_sum_xg = 0\n",
    "mape_sum_xg = mean_absolute_error(Y_test, pred_test)        \n",
    "mape_test_xg = mape_sum_xg/len(Y_test)\n",
    "print(\"Mean absolute Percentage error of test data:\",mape_test_xg)"
   ]
  },
  {
   "cell_type": "markdown",
   "metadata": {},
   "source": [
    "#### Formatting the results of SK-Learn Linear Regression & XG Boost Technique"
   ]
  },
  {
   "cell_type": "code",
   "execution_count": 53,
   "metadata": {},
   "outputs": [
    {
     "name": "stdout",
     "output_type": "stream",
     "text": [
      "Metrics             |SKL Train           |SKL Test            |XGB Train           |XGB Test            \n",
      "--------------------------------------------------------------------------------------------\n",
      "RMSE                |526.9835            |501.0807            |699.6602            |673.7646            \n",
      "MAE                 |365.2049            |356.0575            |436.1405            |428.2494            \n",
      "MAPE                |0.0001              |0.0                 |0.0368              |0.0733              \n"
     ]
    }
   ],
   "source": [
    "metrics = ['RMSE', 'MAE', 'MAPE']\n",
    "sk_train = [round(sqrt(mean_squared_error(Y_train,predict_train)),4), round(mean_absolute_error(Y_train,predict_train),4), round(mape_train,4)]\n",
    "sk_test = [round(sqrt(mean_squared_error(Y_test,predict_test)),4), round(mean_absolute_error(Y_test,predict_test),4), round(mape_test,4)]\n",
    "xgb_train = [round(rmse_train,4),round(mean_absolute_error(pred_train, Y_train),4),round(mape_train_xg,4)]\n",
    "xgb_test = [round(rmse_test,4),round(mean_absolute_error(pred_test, Y_test),4),round(mape_test_xg,4)]\n",
    "\n",
    "\n",
    "titles = ['Metrics','SKL Train', 'SKL Test','XGB Train','XGB Test']\n",
    "data = [titles] + list(zip(metrics, sk_train, sk_test,xgb_train, xgb_test))\n",
    "\n",
    "for i, d in enumerate(data):\n",
    "    line = '|'.join(str(x).ljust(20) for x in d)\n",
    "    print(line)\n",
    "    if i == 0:\n",
    "        chars = len(line) - 12\n",
    "        print('-' * chars)"
   ]
  },
  {
   "cell_type": "markdown",
   "metadata": {},
   "source": [
    "Based on the above table,\n",
    "\n",
    "1) We could notice significant change in the metrics between SKLearn and XGBoost results.\n",
    "\n",
    "2) Mean absolute percentage error is showing 7% of error for the XGB-test dataset. However, we had a insignificant result for SKLearn test.\n",
    "\n",
    "We can try to improve the metrics(such as RMSE) by performing K-Fold cross validation"
   ]
  },
  {
   "cell_type": "markdown",
   "metadata": {},
   "source": [
    "#### K-Fold cross validation to improve RMSE"
   ]
  },
  {
   "cell_type": "code",
   "execution_count": 50,
   "metadata": {},
   "outputs": [
    {
     "data": {
      "text/html": [
       "<div>\n",
       "<style scoped>\n",
       "    .dataframe tbody tr th:only-of-type {\n",
       "        vertical-align: middle;\n",
       "    }\n",
       "\n",
       "    .dataframe tbody tr th {\n",
       "        vertical-align: top;\n",
       "    }\n",
       "\n",
       "    .dataframe thead th {\n",
       "        text-align: right;\n",
       "    }\n",
       "</style>\n",
       "<table border=\"1\" class=\"dataframe\">\n",
       "  <thead>\n",
       "    <tr style=\"text-align: right;\">\n",
       "      <th></th>\n",
       "      <th>test-rmse-mean</th>\n",
       "      <th>test-rmse-std</th>\n",
       "      <th>train-rmse-mean</th>\n",
       "      <th>train-rmse-std</th>\n",
       "    </tr>\n",
       "  </thead>\n",
       "  <tbody>\n",
       "    <tr>\n",
       "      <th>0</th>\n",
       "      <td>1179.277751</td>\n",
       "      <td>6.868215</td>\n",
       "      <td>1179.011434</td>\n",
       "      <td>3.314254</td>\n",
       "    </tr>\n",
       "    <tr>\n",
       "      <th>1</th>\n",
       "      <td>1092.262044</td>\n",
       "      <td>5.652820</td>\n",
       "      <td>1091.932129</td>\n",
       "      <td>5.002721</td>\n",
       "    </tr>\n",
       "    <tr>\n",
       "      <th>2</th>\n",
       "      <td>1016.409953</td>\n",
       "      <td>8.232533</td>\n",
       "      <td>1016.196940</td>\n",
       "      <td>3.022695</td>\n",
       "    </tr>\n",
       "    <tr>\n",
       "      <th>3</th>\n",
       "      <td>948.171610</td>\n",
       "      <td>8.892803</td>\n",
       "      <td>947.692871</td>\n",
       "      <td>3.066453</td>\n",
       "    </tr>\n",
       "    <tr>\n",
       "      <th>4</th>\n",
       "      <td>890.765137</td>\n",
       "      <td>8.315499</td>\n",
       "      <td>889.975504</td>\n",
       "      <td>3.324857</td>\n",
       "    </tr>\n",
       "  </tbody>\n",
       "</table>\n",
       "</div>"
      ],
      "text/plain": [
       "   test-rmse-mean  test-rmse-std  train-rmse-mean  train-rmse-std\n",
       "0     1179.277751       6.868215      1179.011434        3.314254\n",
       "1     1092.262044       5.652820      1091.932129        5.002721\n",
       "2     1016.409953       8.232533      1016.196940        3.022695\n",
       "3      948.171610       8.892803       947.692871        3.066453\n",
       "4      890.765137       8.315499       889.975504        3.324857"
      ]
     },
     "execution_count": 50,
     "metadata": {},
     "output_type": "execute_result"
    }
   ],
   "source": [
    "data_dmatrix = xgb.DMatrix(data=X,label=Y)\n",
    "\n",
    "params = {\"objective\":\"reg:linear\",'colsample_bytree': 0.3,'learning_rate': 0.1,\n",
    "                'max_depth': 5, 'alpha': 10}\n",
    "\n",
    "cv_results = xgb.cv(dtrain=data_dmatrix, params=params, nfold=3,\n",
    "                    num_boost_round=50,early_stopping_rounds=10,metrics=\"rmse\", as_pandas=True, seed=123)\n",
    "\n",
    "# cv_results contains training and test RMSE for each boosting round (number of trees we built in XGBoost model).\n",
    "cv_results.head()"
   ]
  },
  {
   "cell_type": "code",
   "execution_count": 51,
   "metadata": {},
   "outputs": [
    {
     "name": "stdout",
     "output_type": "stream",
     "text": [
      "49    502.145131\n",
      "Name: test-rmse-mean, dtype: float64\n"
     ]
    }
   ],
   "source": [
    "print((cv_results[\"test-rmse-mean\"]).tail(1))"
   ]
  },
  {
   "cell_type": "markdown",
   "metadata": {},
   "source": [
    "Based on the above observations, we can find that Test RMSE has reduced from 673.76 to 502.14.\n",
    "RMSE can be further improved by:\n",
    "\n",
    "    1) Changing the hyper-parameters\n",
    "    \n",
    "    2) Applying techniques such as Grid search, Random search and Bayesian optimization to reach optimal set of \n",
    "    hyper-parameters."
   ]
  },
  {
   "cell_type": "markdown",
   "metadata": {},
   "source": [
    "#### Visualizing the importance of features in our dataset"
   ]
  },
  {
   "cell_type": "code",
   "execution_count": 52,
   "metadata": {},
   "outputs": [
    {
     "data": {
      "image/png": "[encoded data removed]",
      "text/plain": [
       "<matplotlib.figure.Figure at 0x1c1d3ec278>"
      ]
     },
     "metadata": {},
     "output_type": "display_data"
    }
   ],
   "source": [
    "xg_reg = xgb.train(params=params, dtrain=data_dmatrix, num_boost_round=10)\n",
    "xgb.plot_importance(xg_reg)\n",
    "plt.rcParams['figure.figsize'] = [5, 5]\n",
    "plt.show()"
   ]
  },
  {
   "cell_type": "markdown",
   "metadata": {},
   "source": [
    "Above plot confirms the fact \"Distance\" (a feature related to Location of the house) is much more important than any other feature in the dataset. Also, the feature \"Distance\" has the potential to override the importance of other features in price determination."
   ]
  },
  {
   "cell_type": "markdown",
   "metadata": {},
   "source": [
    "#### Conclusion & Recommendations to the client"
   ]
  },
  {
   "cell_type": "markdown",
   "metadata": {},
   "source": [
    "We had constructed Linear regression models using SKlearn & XGBoost. Listed below are the observations based on the results. \n",
    "\n",
    "1) SkLearn results showed that there is a room for improving the model further. Error metrics such as 'Root Mean Squared error', 'Mean absolute percentage error' etc proved that model is 70 - 75% accurate although there is room for improvement\n",
    "\n",
    "2) Linear regression using XGBoost showed better results in terms of error metrics - Particularly after the usage of K-Fold cross validation techniques.\n",
    "\n",
    "3) Using the XGBoost technique, we were able to compare the F-Scores of all independent features and understand the importance of each and every features with respect to the Target (Price of the property)\n",
    "\n",
    "4) This linear regression model can be further improved by hyper-parameter tuning i.e. by applying techniques such as Grid search, Random search and Bayesian optimization to reach optimal set of hyper-parameters.\n",
    "\n",
    "As a part of client recommendations, it would be better if we have more data points for analysis and care should be taken to ensure that there are minimal NANs in the features of new data points (although imputation can be performed to correct the features, it would be better to not have the NANs in the first place). Although this model is good at predicting the prices, 'New' features can be added to the dataset such as 'Crime Rate', 'Presence of Railway routes/ ease of transportation', 'School Rankings' etc. -  These features are as influential as 'Location/ Distance from CBD' and if such features are added, there will be more than 15% improvement in the model and thereby predicting house prices more accurately. "
   ]
  }
 ],
 "metadata": {
  "kernelspec": {
   "display_name": "Python 3",
   "language": "python",
   "name": "python3"
  },
  "language_info": {
   "codemirror_mode": {
    "name": "ipython",
    "version": 3
   },
   "file_extension": ".py",
   "mimetype": "text/x-python",
   "name": "python",
   "nbconvert_exporter": "python",
   "pygments_lexer": "ipython3",
   "version": "3.6.4"
  }
 },
 "nbformat": 4,
 "nbformat_minor": 2
}
